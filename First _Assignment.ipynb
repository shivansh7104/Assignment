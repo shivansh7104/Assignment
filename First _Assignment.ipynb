{
 "cells": [
  {
   "cell_type": "code",
   "execution_count": 2,
   "id": "571cbe8f-4d10-4ac5-b025-7ad479f061a2",
   "metadata": {},
   "outputs": [],
   "source": [
    "#Explain the key features of Python that make it a popular choice for programming.\n",
    "#1.Easy to Code\n",
    "#2.Easy to Read\n",
    "#3.Many libaries which make our work easier"
   ]
  },
  {
   "cell_type": "code",
   "execution_count": 6,
   "id": "2edaa65c-102b-4247-9aa2-62668465d66f",
   "metadata": {},
   "outputs": [
    {
     "name": "stdout",
     "output_type": "stream",
     "text": [
      "0b100\n",
      "8\n"
     ]
    },
    {
     "data": {
      "text/plain": [
       "int"
      ]
     },
     "execution_count": 6,
     "metadata": {},
     "output_type": "execute_result"
    }
   ],
   "source": [
    "#Describe the role of predifined keywords in Python and provide example of how they are used in a program.\n",
    "#>>A keyword refers to a predined word that pyhton reserves for working in programs that have a specific meaning. You caan<t use a keyword anywhere else.\n",
    "#Examples of how pkeywords are used in a program.\n",
    "print(bin(4))\n",
    "print(len(\"Shivansh\"))\n",
    "a=5\n",
    "type(a)"
   ]
  },
  {
   "cell_type": "code",
   "execution_count": 34,
   "id": "19e0473b-46f5-471e-9a13-9cb91db2d8c0",
   "metadata": {},
   "outputs": [
    {
     "ename": "TypeError",
     "evalue": "'tuple' object does not support item assignment",
     "output_type": "error",
     "traceback": [
      "\u001b[0;31m---------------------------------------------------------------------------\u001b[0m",
      "\u001b[0;31mTypeError\u001b[0m                                 Traceback (most recent call last)",
      "Cell \u001b[0;32mIn[34], line 10\u001b[0m\n\u001b[1;32m      8\u001b[0m \u001b[38;5;66;03m#Example of Immutable\u001b[39;00m\n\u001b[1;32m      9\u001b[0m a\u001b[38;5;241m=\u001b[39m\u001b[38;5;124m\"\u001b[39m\u001b[38;5;124mShiv\u001b[39m\u001b[38;5;124m\"\u001b[39m,\u001b[38;5;241m1\u001b[39m,\u001b[38;5;241m5\u001b[39m\n\u001b[0;32m---> 10\u001b[0m \u001b[43ma\u001b[49m\u001b[43m[\u001b[49m\u001b[38;5;241;43m1\u001b[39;49m\u001b[43m]\u001b[49m\u001b[38;5;241m=\u001b[39m\u001b[38;5;241m1\u001b[39m\n\u001b[1;32m     11\u001b[0m a\n",
      "\u001b[0;31mTypeError\u001b[0m: 'tuple' object does not support item assignment"
     ]
    }
   ],
   "source": [
    "#Compare and contrast mutable and immutable objects in python.\n",
    "#The major difference between mutable and immutablkle objects in Python is that mutable objects can be modified or changed after their creations but immmutable objects cxan not be modified after their creation.This make immutable objects final objects.\n",
    "#Example\n",
    "#Example of Mutable\n",
    "l1=[1,2,\"Ram\",3.2]\n",
    "l1[1]=3.2\n",
    "l1\n",
    "#Example of Immutable\n",
    "a=\"Shiv\",1,5\n",
    "a[1]=1\n",
    "a"
   ]
  },
  {
   "cell_type": "code",
   "execution_count": 19,
   "id": "bf963275-ffb5-4684-b36d-239c9d4252f8",
   "metadata": {},
   "outputs": [
    {
     "data": {
      "text/plain": [
       "True"
      ]
     },
     "execution_count": 19,
     "metadata": {},
     "output_type": "execute_result"
    }
   ],
   "source": [
    "#Discuss the different types of operators in Python and provide example of how they are used.\n",
    "#Arithmetic Operator-->\n",
    "#>>Arithmetic operators are used to perform basic mathematical operations like addition,substraction, multiplication, and division.\n",
    "a=5\n",
    "b=3\n",
    "c=a+b\n",
    "c\n",
    "#Relational Operator-->\n",
    "#>>Relational Operators compare the value.It either return True or False according to the conditions.\n",
    "a=10\n",
    "b=5\n",
    "a>b\n",
    "#Logical Operatos-->\n",
    "#>>Logical operation perform Logical AND, Logical OR, and Logical NOT operations. It is used to combine conditional statemnt.\n",
    "a=4\n",
    "a<5 and a<10\n",
    "b=12\n",
    "b<10 or b>10\n",
    "#Bitwise Operator-->\n",
    "#>>Bitwise operatord act on bits and perform bit by bit operations.These are used to operate on binary number."
   ]
  },
  {
   "cell_type": "code",
   "execution_count": 22,
   "id": "1c0c9726-2082-4334-8c5e-a37c08955668",
   "metadata": {},
   "outputs": [
    {
     "name": "stdout",
     "output_type": "stream",
     "text": [
      "5.0\n"
     ]
    }
   ],
   "source": [
    "#Explain the concept of typecasting in Python with examples.\n",
    "#>>Converted str to int\n",
    "a=\"5\"\n",
    "b=10\n",
    "c=int(a)+b\n",
    "c\n",
    "#>>Converted int to float\n",
    "x=5\n",
    "print(float(x))"
   ]
  },
  {
   "cell_type": "code",
   "execution_count": 28,
   "id": "951af636-d251-468e-8b26-4bb86e2843d1",
   "metadata": {},
   "outputs": [
    {
     "name": "stdin",
     "output_type": "stream",
     "text": [
      "Enter the Selling Prize= 180\n",
      "Enter the actual prize= 200\n"
     ]
    },
    {
     "name": "stdout",
     "output_type": "stream",
     "text": [
      "LOSS\n"
     ]
    }
   ],
   "source": [
    "#How do conditional statement work in Python?illustra ewith examples.\n",
    "#Finding the profile or loss\n",
    "#if-else statement>>>>>>\n",
    "a=int(input(\"Enter the Selling Prize=\"))\n",
    "b=int(input(\"Enter the actual prize=\"))\n",
    "if a>b:\n",
    "    print(\"PROFIT\")\n",
    "else:\n",
    "    print(\"LOSS\")"
   ]
  },
  {
   "cell_type": "code",
   "execution_count": 33,
   "id": "3112c4e7-2eb0-459b-89df-e395f9c5ec0a",
   "metadata": {},
   "outputs": [
    {
     "name": "stdout",
     "output_type": "stream",
     "text": [
      "0\n",
      "2\n",
      "4\n",
      "6\n",
      "8\n",
      "10\n",
      "* \n",
      "* * \n",
      "* * * \n",
      "* * * * \n",
      "1\n",
      "2\n",
      "3\n",
      "4\n"
     ]
    }
   ],
   "source": [
    "#Describe the different types of loops in Python and their use cases with exanples.\n",
    "#for statement>>>>>>>>\n",
    "for i in range(0,12,2):\n",
    "    print(i)\n",
    "###########################\n",
    "for i in range(4):\n",
    "    for j in range(i+1):\n",
    "        print(\"*\",end=\" \")\n",
    "    print()\n",
    "#while statement>>>>>>\n",
    "a=5\n",
    "i=1\n",
    "while i<a:\n",
    "    print(i)\n",
    "    i=i+1\n",
    "    "
   ]
  },
  {
   "cell_type": "code",
   "execution_count": null,
   "id": "76afa2a8-c99e-4246-a0fd-6f3781ae3d61",
   "metadata": {},
   "outputs": [],
   "source": []
  },
  {
   "cell_type": "code",
   "execution_count": null,
   "id": "32256d68-8991-4d3a-bf1c-9520ad51a496",
   "metadata": {},
   "outputs": [],
   "source": []
  }
 ],
 "metadata": {
  "kernelspec": {
   "display_name": "Python 3 (ipykernel)",
   "language": "python",
   "name": "python3"
  },
  "language_info": {
   "codemirror_mode": {
    "name": "ipython",
    "version": 3
   },
   "file_extension": ".py",
   "mimetype": "text/x-python",
   "name": "python",
   "nbconvert_exporter": "python",
   "pygments_lexer": "ipython3",
   "version": "3.10.8"
  }
 },
 "nbformat": 4,
 "nbformat_minor": 5
}
